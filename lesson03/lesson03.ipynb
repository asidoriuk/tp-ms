{
 "cells": [
  {
   "cell_type": "markdown",
   "metadata": {},
   "source": [
    "Урок 3. Описательная статистика. Качественные и количественные характеристики популяции. Графическое представление данных"
   ]
  },
  {
   "cell_type": "code",
   "execution_count": 1,
   "metadata": {},
   "outputs": [],
   "source": [
    "from scipy.special import comb\n",
    "import numpy as np"
   ]
  },
  {
   "cell_type": "markdown",
   "metadata": {},
   "source": [
    "1. Даны значения зарплат из выборки выпускников: 100, 80, 75, 77, 89, 33, 45, 25, 65, 17, 30, 24, 57, 55, 70, 75, 65, 84, 90, 150. Посчитать (желательно без использования статистических методов наподобие std, var, mean) среднее арифметическое, среднее квадратичное отклонение, смещенную и несмещенную оценки дисперсий для данной выборки."
   ]
  },
  {
   "cell_type": "code",
   "execution_count": 2,
   "metadata": {},
   "outputs": [
    {
     "name": "stdout",
     "output_type": "stream",
     "text": [
      "65.3 30.823854398825596 950.11 1000.1157894736842\n"
     ]
    }
   ],
   "source": [
    "X1 = np.array([100, 80, 75, 77, 89, 33, 45, 25, 65, 17, 30, 24, 57, 55, 70, 75, 65, 84, 90, 150])\n",
    "m = float(X1.sum()/X1.shape)\n",
    "sigma = float(np.sqrt(sum((X1 - m)**2)/X1.shape))\n",
    "# X1.std(ddof=0)\n",
    "d = float(sum((X1 - m)**2)/X1.shape)\n",
    "offset_d = float(sum((X1 - m)**2)/(X1.shape[0] - 1))\n",
    "print(m, sigma, d, offset_d)\n",
    "# X1.var(ddof=1)"
   ]
  },
  {
   "cell_type": "markdown",
   "metadata": {},
   "source": [
    "2. В первом ящике находится 8 мячей, из которых 5 - белые. Во втором ящике - 12 мячей, из которых 5 белых. Из первого ящика вытаскивают случайным образом два мяча, из второго - 4. Какова вероятность того, что 3 мяча белые?"
   ]
  },
  {
   "cell_type": "code",
   "execution_count": 3,
   "metadata": {},
   "outputs": [
    {
     "data": {
      "text/plain": [
       "0.6565656565656566"
      ]
     },
     "execution_count": 3,
     "metadata": {},
     "output_type": "execute_result"
    }
   ],
   "source": [
    "# P(3 белых) + P(4) + P(5) + P(6) = 1 - P(0) - P(1) - P(2)\n",
    "P1_0 = comb(5, 0)*comb(8 - 5, 2 - 0)/comb(8, 2)    # ни одного белого из первого ящика\n",
    "P1_1 = comb(5, 1)*comb(8 - 5, 2 - 1)/comb(8, 2)    # 1 белый\n",
    "P1_2 = comb(5, 2)*comb(8 - 5, 2 - 2)/comb(8, 2)    # 2 белых\n",
    "P2_0 = comb(5, 0)*comb(12 - 5, 4 - 0)/comb(12, 4)  # ни одного белого из второго\n",
    "P2_1 = comb(5, 1)*comb(12 - 5, 4 - 1)/comb(12, 4)  # 1 белый\n",
    "P2_2 = comb(5, 2)*comb(12 - 5, 4 - 2)/comb(12, 4)  # 2\n",
    "\n",
    "1 - ((P1_0*P2_0) + (P1_1*P2_0 + P1_0*P2_1) + (P1_0*P2_2 + P1_1*P2_1 + P1_2*P2_0))"
   ]
  },
  {
   "cell_type": "markdown",
   "metadata": {},
   "source": [
    "3. На соревновании по биатлону один из трех спортсменов стреляет и попадает в мишень. Вероятность попадания для первого спортсмена равна 0.9, для второго — 0.8, для третьего — 0.6. Найти вероятность того, что выстрел произведен: a) первым спортсменом; б) вторым спортсменом; в) третьим спортсменом."
   ]
  },
  {
   "cell_type": "code",
   "execution_count": 4,
   "metadata": {},
   "outputs": [
    {
     "name": "stdout",
     "output_type": "stream",
     "text": [
      "0.3913043478260869 0.34782608695652173 0.26086956521739124 0.7666666666666667\n"
     ]
    }
   ],
   "source": [
    "# событие произошло и его результат известен, значит используем формулу Байеса\n",
    "Pa = (0.9 + 0.8 + 0.6)/3 # вероятность попадания, когда был сделан всего один выстрел\n",
    "Pb1 = 0.9/3/Pa           # первый спортсмен выстрелил и попал\n",
    "Pb2 = 0.8/3/Pa           # второй\n",
    "Pb3 = 0.6/3/Pa           # третий\n",
    "print(Pb1, Pb2, Pb3, Pa)"
   ]
  },
  {
   "cell_type": "markdown",
   "metadata": {},
   "source": [
    "4. В университет на факультеты A и B поступило равное количество студентов, а на факультет C студентов поступило столько же, сколько на A и B вместе. Вероятность того, что студент факультета A сдаст первую сессию, равна 0.8. Для студента факультета B эта вероятность равна 0.7, а для студента факультета C - 0.9. Студент сдал первую сессию. Какова вероятность, что он учится: a) на факультете A; б) на факультете B; в) на факультете C?"
   ]
  },
  {
   "cell_type": "code",
   "execution_count": 5,
   "metadata": {},
   "outputs": [
    {
     "name": "stdout",
     "output_type": "stream",
     "text": [
      "0.24242424242424246 0.21212121212121213 0.5454545454545455 0.825\n"
     ]
    }
   ],
   "source": [
    "# P(B1) = P(B2) - вероятность того, что студент с факультета A (или с B) = 1/4, P(B3) - с факультета С = 1/2.\n",
    "# Судя по соотношению количества всех учащихся.\n",
    "Pa = 0.25*(0.8 + 0.7) + 0.5*0.9 # вероятность успешной сдачи экзамена (успешного события)\n",
    "Pb1 = 0.25*0.8/Pa               # сдал студент с факультета A (успешное событие произошло)\n",
    "Pb2 = 0.25*0.7/Pa\n",
    "Pb3 = 0.5*0.9/Pa\n",
    "print(Pb1, Pb2, Pb3, Pa)"
   ]
  },
  {
   "cell_type": "markdown",
   "metadata": {},
   "source": [
    "5. Устройство состоит из трех деталей. Для первой детали вероятность выйти из строя в первый месяц равна 0.1, для второй - 0.2, для третьей - 0.25. Какова вероятность того, что в первый месяц выйдут из строя: а) все детали; б) только две детали; в) хотя бы одна деталь; г) от одной до двух деталей?"
   ]
  },
  {
   "cell_type": "code",
   "execution_count": 6,
   "metadata": {},
   "outputs": [],
   "source": [
    "P1 = 0.1\n",
    "P2 = 0.2\n",
    "P3 = 0.25"
   ]
  },
  {
   "cell_type": "code",
   "execution_count": 7,
   "metadata": {},
   "outputs": [
    {
     "data": {
      "text/plain": [
       "0.005000000000000001"
      ]
     },
     "execution_count": 7,
     "metadata": {},
     "output_type": "execute_result"
    }
   ],
   "source": [
    "# а)\n",
    "P1*P2*P3"
   ]
  },
  {
   "cell_type": "code",
   "execution_count": 8,
   "metadata": {},
   "outputs": [
    {
     "data": {
      "text/plain": [
       "0.08000000000000002"
      ]
     },
     "execution_count": 8,
     "metadata": {},
     "output_type": "execute_result"
    }
   ],
   "source": [
    "# б) две сломались, одна - нет\n",
    "P1*P2*(1 - P3) + P1*(1 - P2)*P3 + (1 - P1)*P2*P3"
   ]
  },
  {
   "cell_type": "code",
   "execution_count": 9,
   "metadata": {},
   "outputs": [
    {
     "data": {
      "text/plain": [
       "0.45999999999999996"
      ]
     },
     "execution_count": 9,
     "metadata": {},
     "output_type": "execute_result"
    }
   ],
   "source": [
    "# в) = 1 - P(не выйдет из строя ни одна)\n",
    "1 - (1 - P1)*(1 - P2)*(1 - P3)"
   ]
  },
  {
   "cell_type": "code",
   "execution_count": 10,
   "metadata": {},
   "outputs": [
    {
     "data": {
      "text/plain": [
       "0.45499999999999996"
      ]
     },
     "execution_count": 10,
     "metadata": {},
     "output_type": "execute_result"
    }
   ],
   "source": [
    "# г) = 1 - (P(ни одна не выйден из строя) + а))\n",
    "1 - (1 - P1)*(1 - P2)*(1 - P3) - P1*P2*P3"
   ]
  }
 ],
 "metadata": {
  "kernelspec": {
   "display_name": "Python 3",
   "language": "python",
   "name": "python3"
  },
  "language_info": {
   "codemirror_mode": {
    "name": "ipython",
    "version": 3
   },
   "file_extension": ".py",
   "mimetype": "text/x-python",
   "name": "python",
   "nbconvert_exporter": "python",
   "pygments_lexer": "ipython3",
   "version": "3.7.2"
  }
 },
 "nbformat": 4,
 "nbformat_minor": 2
}
