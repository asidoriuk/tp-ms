{
 "cells": [
  {
   "cell_type": "code",
   "execution_count": 1,
   "metadata": {},
   "outputs": [],
   "source": [
    "from scipy.special import comb\n",
    "import math as m"
   ]
  },
  {
   "cell_type": "markdown",
   "metadata": {},
   "source": [
    "1. Вероятность того, что стрелок попадет в мишень, выстрелив один раз, равна 0.8. Стрелок выстрелил 100 раз. Найдите вероятность того, что стрелок попадет в цель ровно 85 раз."
   ]
  },
  {
   "cell_type": "code",
   "execution_count": 2,
   "metadata": {},
   "outputs": [
    {
     "data": {
      "text/plain": [
       "0.048061793700746355"
      ]
     },
     "execution_count": 2,
     "metadata": {},
     "output_type": "execute_result"
    }
   ],
   "source": [
    "# Вероятность высока, по условиям похоже, что соответствует биноминальному закону распределения:\n",
    "\n",
    "comb(100, 85)*(0.8**85)*((1 - 0.8)**(100 - 85))"
   ]
  },
  {
   "cell_type": "markdown",
   "metadata": {},
   "source": [
    "2. Вероятность того, что лампочка перегорит в течение первого дня эксплуатации, равна 0.0004. В жилом комплексе после ремонта в один день включили 5000 новых лампочек. Какова вероятность, что ни одна из них не перегорит в первый день? Какова вероятность, что перегорят ровно две?"
   ]
  },
  {
   "cell_type": "code",
   "execution_count": 3,
   "metadata": {},
   "outputs": [
    {
     "data": {
      "text/plain": [
       "0.1353352832366127"
      ]
     },
     "execution_count": 3,
     "metadata": {},
     "output_type": "execute_result"
    }
   ],
   "source": [
    "# Признаки распределения Пуассона...\n",
    "# a) вероятность, что не перегорит ни одна:\n",
    "\n",
    "(5000*0.0004)**0*m.e**(-5000*0.0004)/m.factorial(0)"
   ]
  },
  {
   "cell_type": "code",
   "execution_count": 4,
   "metadata": {},
   "outputs": [
    {
     "data": {
      "text/plain": [
       "0.2706705664732254"
      ]
     },
     "execution_count": 4,
     "metadata": {},
     "output_type": "execute_result"
    }
   ],
   "source": [
    "# a) вероятность, что в первый день перегорят ровно 2:\n",
    "\n",
    "(5000*0.0004)**2*m.e**(-5000*0.0004)/m.factorial(2)"
   ]
  },
  {
   "cell_type": "markdown",
   "metadata": {},
   "source": [
    "3. Монету подбросили 144 раза. Какова вероятность, что орел выпадет ровно 70 раз?"
   ]
  },
  {
   "cell_type": "code",
   "execution_count": 5,
   "metadata": {},
   "outputs": [
    {
     "data": {
      "text/plain": [
       "0.06281178035144777"
      ]
     },
     "execution_count": 5,
     "metadata": {},
     "output_type": "execute_result"
    }
   ],
   "source": [
    "comb(144, 70)*(0.5**70)*((1 - 0.5)**(144 - 70))"
   ]
  },
  {
   "cell_type": "markdown",
   "metadata": {},
   "source": [
    "4. В первом ящике находится 10 мячей, из которых 7 - белые. Во втором ящике - 11 мячей, из которых 9 белых. Из каждого ящика вытаскивают случайным образом по два мяча. Какова вероятность того, что все мячи белые? Какова вероятность того, что ровно два мяча белые? Какова вероятность того, что хотя бы один мяч белый?"
   ]
  },
  {
   "cell_type": "code",
   "execution_count": 6,
   "metadata": {},
   "outputs": [
    {
     "data": {
      "text/plain": [
       "0.3054545454545455"
      ]
     },
     "execution_count": 6,
     "metadata": {},
     "output_type": "execute_result"
    }
   ],
   "source": [
    "# a) вероятность того, что все мячи белые - P1*P2, где P1 достать все белые из первой коробки, P2 - тз второй\n",
    "\n",
    "a = comb(7, 2)/comb(10, 2)*comb(9, 2)/comb(11, 2)\n",
    "a"
   ]
  },
  {
   "cell_type": "code",
   "execution_count": 7,
   "metadata": {},
   "outputs": [
    {
     "data": {
      "text/plain": [
       "0.20484848484848486"
      ]
     },
     "execution_count": 7,
     "metadata": {},
     "output_type": "execute_result"
    }
   ],
   "source": [
    "# b) вероятность того, что ровно два мяча белые равна сумме вероятностей P1_2*P2_0 (все белые из первой) +\n",
    "# + P1_1*P2_1 (по одному белому из каждой) + P1_0*P2_2 (все белые из второй).\n",
    "\n",
    "P1_2 = comb(7, 2)/comb(10, 2)            # два белых из первой коробки\n",
    "P2_0 = comb(2, 2)/comb(11, 2)            # ни одного белого из второй коробки\n",
    "P1_1 = comb(7, 1)*comb(3, 1)/comb(10, 2) # один белый из первой\n",
    "P2_1 = comb(9, 1)*comb(2, 1)/comb(11, 2) # один белый из второй\n",
    "P1_0 = comb(3, 2)/comb(10, 2)            # ни одного белого из первой\n",
    "P2_2 = comb(9, 2)/comb(11, 2)            # два белых из второй\n",
    "\n",
    "b = P1_2*P2_0 + P1_1*P2_1 + P1_0*P2_2\n",
    "b"
   ]
  },
  {
   "cell_type": "code",
   "execution_count": 8,
   "metadata": {},
   "outputs": [
    {
     "data": {
      "text/plain": [
       "0.9987878787878788"
      ]
     },
     "execution_count": 8,
     "metadata": {},
     "output_type": "execute_result"
    }
   ],
   "source": [
    "# c) вероятность того, что хотя бы один мяч белый равна сумме вероятностей (один мяч белый) + b) + (3 мяча белые) + a).\n",
    "\n",
    "(P1_1*P2_0 + P1_0*P2_1) + b + (P1_1*P2_2 + P1_2*P2_1)  + a"
   ]
  }
 ],
 "metadata": {
  "kernelspec": {
   "display_name": "Python 3",
   "language": "python",
   "name": "python3"
  },
  "language_info": {
   "codemirror_mode": {
    "name": "ipython",
    "version": 3
   },
   "file_extension": ".py",
   "mimetype": "text/x-python",
   "name": "python",
   "nbconvert_exporter": "python",
   "pygments_lexer": "ipython3",
   "version": "3.7.2"
  }
 },
 "nbformat": 4,
 "nbformat_minor": 2
}
